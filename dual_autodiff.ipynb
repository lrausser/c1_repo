{
 "cells": [
  {
   "cell_type": "markdown",
   "metadata": {},
   "source": [
    " # Dual Autodiff Notebook Tutorial"
   ]
  },
  {
   "cell_type": "markdown",
   "metadata": {},
   "source": [
    "Import the dual autodifferentiation package:"
   ]
  },
  {
   "cell_type": "code",
   "execution_count": 2,
   "metadata": {},
   "outputs": [],
   "source": [
    "from dual_autodiff.dual import Dual as pydual\n",
    "from dual_autodiff_x.dual_autodiff_x.dual import Dual as cydual"
   ]
  },
  {
   "cell_type": "code",
   "execution_count": 13,
   "metadata": {},
   "outputs": [
    {
     "name": "stdout",
     "output_type": "stream",
     "text": [
      "Requirement already satisfied: memory_profiler in /Users/lilyrausser/venvs/coursework_env/lib/python3.13/site-packages (0.61.0)\n",
      "Requirement already satisfied: psutil in /Users/lilyrausser/venvs/coursework_env/lib/python3.13/site-packages (from memory_profiler) (6.1.0)\n",
      "Note: you may need to restart the kernel to use updated packages.\n"
     ]
    }
   ],
   "source": [
    "pip install memory_profiler"
   ]
  },
  {
   "cell_type": "code",
   "execution_count": 3,
   "metadata": {},
   "outputs": [],
   "source": [
    "import math\n",
    "import matplotlib.pyplot as plt\n",
    "import numpy as np\n",
    "from dual_autodiff.q.q5 import * \n",
    "import timeit\n",
    "from timeit import Timer\n",
    "from memory_profiler import memory_usage"
   ]
  },
  {
   "cell_type": "markdown",
   "metadata": {},
   "source": [
    "Here are some ways of utilizing the Dual class via simple math operations:\n"
   ]
  },
  {
   "cell_type": "code",
   "execution_count": 5,
   "metadata": {},
   "outputs": [
    {
     "name": "stdout",
     "output_type": "stream",
     "text": [
      "Addition of dual numbers:  Dual(real = 6, dual = 8)\n",
      "Subtration of dual numbers:  Dual(real = -2, dual = -2)\n",
      "Multiplication of dual numbers:  Dual(real = 8, dual = 22)\n",
      "Division of dual numbers:  Dual(real = 0.5, dual = 0.125)\n"
     ]
    }
   ],
   "source": [
    "x = pydual(2, 3)\n",
    "y = pydual(4, 5)\n",
    "\n",
    "print(\"Addition of dual numbers: \",  x.__add__(y))\n",
    "print(\"Subtration of dual numbers: \", x.__sub__(y))\n",
    "print(\"Multiplication of dual numbers: \", x.__mul__(y))\n",
    "print(\"Division of dual numbers: \", x.__truediv__(y))"
   ]
  },
  {
   "cell_type": "markdown",
   "metadata": {},
   "source": [
    "Additionally, trigonometric, logarithmic, and exponential transformations can be efficiently performed using dual numbers."
   ]
  },
  {
   "cell_type": "code",
   "execution_count": 6,
   "metadata": {},
   "outputs": [
    {
     "name": "stdout",
     "output_type": "stream",
     "text": [
      "Sin(pi / 6):  0.49999999999999994\n",
      "Derivative of sin(x) at pi/6:  0.8660254037844387\n"
     ]
    }
   ],
   "source": [
    "#sin example\n",
    "x = pydual(np.pi / 6, 1)\n",
    "sin_x = pydual.sin(x)\n",
    "\n",
    "print(\"Sin(pi / 6): \", sin_x.real)\n",
    "print(\"Derivative of sin(x) at pi/6: \", sin_x.dual)"
   ]
  },
  {
   "cell_type": "code",
   "execution_count": 8,
   "metadata": {},
   "outputs": [
    {
     "name": "stdout",
     "output_type": "stream",
     "text": [
      "Cos(pi / 3):  0.5000000000000001\n",
      "Derivative of cos(x) at pi/3:  -0.8660254037844386\n"
     ]
    }
   ],
   "source": [
    "#cosine example\n",
    "x = pydual(np.pi / 3, 1)\n",
    "cos_x = pydual.cos(x)\n",
    "\n",
    "print(\"Cos(pi / 3): \", cos_x.real)\n",
    "print(\"Derivative of cos(x) at pi/3: \", cos_x.dual)"
   ]
  },
  {
   "cell_type": "code",
   "execution_count": 9,
   "metadata": {},
   "outputs": [
    {
     "name": "stdout",
     "output_type": "stream",
     "text": [
      "Tan(pi / 8):  0.4142135623730951\n",
      "Derivative of tan(x) at pi/8:  1.17157287525381\n"
     ]
    }
   ],
   "source": [
    "#tangent example\n",
    "x = pydual(np.pi / 8, 1)\n",
    "tan_x = pydual.tan(x)\n",
    "\n",
    "print(\"Tan(pi / 8): \", tan_x.real)\n",
    "print(\"Derivative of tan(x) at pi/8: \", tan_x.dual)"
   ]
  },
  {
   "cell_type": "code",
   "execution_count": 10,
   "metadata": {},
   "outputs": [
    {
     "name": "stdout",
     "output_type": "stream",
     "text": [
      "exp(0.5):  1.6487212707001282\n",
      "Derivative of exp(x) at 0.5:  3.2974425414002564\n"
     ]
    }
   ],
   "source": [
    "#exponential example\n",
    "x = pydual(0.5, 2)\n",
    "exp_x = pydual.exp(x)\n",
    "\n",
    "print(\"exp(0.5): \", exp_x.real)\n",
    "print(\"Derivative of exp(x) at 0.5: \", exp_x.dual)"
   ]
  },
  {
   "cell_type": "code",
   "execution_count": 11,
   "metadata": {},
   "outputs": [
    {
     "name": "stdout",
     "output_type": "stream",
     "text": [
      "lin(3):  1.0986122886681098\n",
      "Derivative of log(x) at 3:  0.3333333333333333\n"
     ]
    }
   ],
   "source": [
    "#logarithmic example\n",
    "x = pydual(3.0, 1)\n",
    "log_x = pydual.log(x)\n",
    "\n",
    "print(\"lin(3): \", log_x.real)\n",
    "print(\"Derivative of log(x) at 3: \", log_x.dual)"
   ]
  },
  {
   "cell_type": "markdown",
   "metadata": {},
   "source": [
    "A particularly useful example is the how chain rule can be applied using Dual numbers:"
   ]
  },
  {
   "cell_type": "code",
   "execution_count": 12,
   "metadata": {},
   "outputs": [
    {
     "name": "stdout",
     "output_type": "stream",
     "text": [
      "x * sin(exp(x)) at x = 1:  0.41078129050290885\n",
      "Derivative of x * sin(exp(x)) at x = 1:  -2.067568442452326\n"
     ]
    }
   ],
   "source": [
    "#chain rule example:\n",
    "x = pydual(1, 1)\n",
    "outcome = x * pydual.sin(pydual.exp(x))\n",
    "\n",
    "print(\"x * sin(exp(x)) at x = 1: \", outcome.real)\n",
    "print(\"Derivative of x * sin(exp(x)) at x = 1: \", outcome.dual)"
   ]
  },
  {
   "cell_type": "markdown",
   "metadata": {},
   "source": [
    "Dual numbers are particularly useful in optimization problems as they simplify the computation of derivatives and help locate critical points without requiring manual differentiation. For example, to find the critical points of f(x) = x * cos(x), dual numebrs can be used iteratively: "
   ]
  },
  {
   "cell_type": "code",
   "execution_count": 14,
   "metadata": {},
   "outputs": [
    {
     "name": "stdout",
     "output_type": "stream",
     "text": [
      "f(x) = x cos x:  0.5403023058681398\n",
      "Derivative of f(x) at x = 0:  -0.30116867893975674\n"
     ]
    }
   ],
   "source": [
    "x = pydual(1, 1)\n",
    "f = x * pydual.cos(x)\n",
    "print(\"f(x) = x cos x: \", f.real)\n",
    "print(\"Derivative of f(x) at x = 0: \", f.dual)"
   ]
  },
  {
   "cell_type": "markdown",
   "metadata": {},
   "source": [
    "In this example, f'(1) is not equal to 0, meaning x = 1 is not a critical point. This process can be repeated iteratively, updating x until f'(x) = 0, which identifies the critical points of the function. \n",
    "\n",
    "This approach shows how dual numbers automate derivative computation and streamline the search for critical points in optimization tasks."
   ]
  }
 ],
 "metadata": {
  "kernelspec": {
   "display_name": "coursework_env",
   "language": "python",
   "name": "python3"
  },
  "language_info": {
   "codemirror_mode": {
    "name": "ipython",
    "version": 3
   },
   "file_extension": ".py",
   "mimetype": "text/x-python",
   "name": "python",
   "nbconvert_exporter": "python",
   "pygments_lexer": "ipython3",
   "version": "3.13.1"
  },
  "orig_nbformat": 4
 },
 "nbformat": 4,
 "nbformat_minor": 2
}
